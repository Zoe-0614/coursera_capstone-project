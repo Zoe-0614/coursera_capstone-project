{
    "cells": [
        {
            "cell_type": "markdown",
            "metadata": {
                "collapsed": true
            },
            "source": "# The Battle of Neighborhood | Data "
        },
        {
            "cell_type": "markdown",
            "metadata": {},
            "source": "## Data Section"
        },
        {
            "cell_type": "markdown",
            "metadata": {},
            "source": "### Data Description:\n\nTo consider the objective stated above, we can list the below data sources used for the analysis."
        },
        {
            "cell_type": "markdown",
            "metadata": {},
            "source": "**a) Toronto Neighborhood Data:**\n\nThe following Wikipedia page was scraped to pull out the necessary information.The information obtained i.e. the table of postal codes, borough and neighborhood was transformed into a pandas data frame for further analysis: List of postal codes of Canada: M\nThis data set was last refreshed in July 2019 and contains the data for each of City of Toronto\u2019s 140 social planning neighbourhoods of Toronto collected during the latest Census of Population in 2016. Data collected contains: age and sex, families and households, language, immigration and internal migration, ethnocultural diversity, Aboriginal peoples, housing, education, income, and labour. https://open.toronto.ca/dataset/neighbourhood-profiles/ "
        },
        {
            "cell_type": "markdown",
            "metadata": {},
            "source": "**b) Coordinate data for each Neighborhood in Toronto:**\n\nThe following csv file was used to get the latitude and longitude for the Neighborhood : http://cocl.us/Geospatial_data"
        },
        {
            "cell_type": "markdown",
            "metadata": {},
            "source": "**c) Comparison of the neighborhoods with the highest frequency of crimes by category:**\n\nThe following files was used to compare and analyze the crime rates for the neighborhoods in Toronto. https://web.archive.org/web/20170204085548/http://www.torontocrimemap.ca/  https://web.archive.org/web/20170204085548/http://www.torontocrimemap.ca/analysis-of-toronto-neighbourhoods-and-their-crimes/ http://data.torontopolice.on.ca/datasets/neighbourhood-crime-rates-boundary-file-"
        },
        {
            "cell_type": "markdown",
            "metadata": {},
            "source": "**d) Determine the state of the real estate price:**\n\nThis data set contain average detached house prices by 144 TREB (Toronto Real Estate Board) neighbourhoods aggregated by Scott Ingram: https://docs.google.com/spreadsheets/d/1GizBkDvGaYm5AAPJ7O0y9eq-n7i81to6WpjejvYFzw0/edit#gid=754169703d"
        },
        {
            "cell_type": "markdown",
            "metadata": {},
            "source": "**e) Toronto schools\u2019 location data:**\n\nThis dataset contains the locations of the elementary and secondary schools owed by the TCDSB within Toronto. Containing attributes such as: Name, Panel (Elementary, Secondary and Alternative/Adult Learning), Address and Geographic location. https://open.toronto.ca/dataset/tcdsb-schools/"
        },
        {
            "cell_type": "markdown",
            "metadata": {},
            "source": "**f) Topographic Mapping \u2013 Physical area of parking lots:**\n\nPolygon layer representing the physical area of parking lots. Part of the City\u2019s topographic mapping products, the data is collected from high resolution aerial photography. The data is a representation of the physical features that are visually identifiable in an aerial photograph. https://open.toronto.ca/dataset/topographic-mapping-physical-area-of-parking-lots/"
        },
        {
            "cell_type": "markdown",
            "metadata": {},
            "source": "**g) Toronto Economic Bulletin:**\n\nThe Toronto Economic Bulletin provides a monthly snapshot of the city/regional economy. It contains data on labour market information, GDP estimates, real estate activity, retail sales, transportation and city rankings. https://open.toronto.ca/dataset/toronto-economic-bulletin/"
        },
        {
            "cell_type": "markdown",
            "metadata": {},
            "source": "### Libraries Which are Used to Develop the Project:"
        },
        {
            "cell_type": "markdown",
            "metadata": {},
            "source": "Numpy: To work with multi-dimensional arrays and matrices.\n\nPandas: For creating and manipulating dataframes.\n\nFolium: Python visualization library would be used to visualize the neighborhood cluster distribution by using interactive leaflet maps.\n\nScikit Learn: For importing k-means clustering.\n\nJSON: Library to handle JSON files.\n\nGeocoder: To retrieve Location Data.\n\nBeautiful Soup and Requests: To scrap and library to handle http requests.\n\nMatplotlib: Python Plotting Module."
        }
    ],
    "metadata": {
        "kernelspec": {
            "display_name": "Python 3.6",
            "language": "python",
            "name": "python3"
        },
        "language_info": {
            "codemirror_mode": {
                "name": "ipython",
                "version": 3
            },
            "file_extension": ".py",
            "mimetype": "text/x-python",
            "name": "python",
            "nbconvert_exporter": "python",
            "pygments_lexer": "ipython3",
            "version": "3.6.9"
        }
    },
    "nbformat": 4,
    "nbformat_minor": 1
}