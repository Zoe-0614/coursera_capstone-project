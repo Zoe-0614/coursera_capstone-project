{
    "cells": [
        {
            "cell_type": "markdown",
            "metadata": {
                "collapsed": true
            },
            "source": "# The Battle of Neighborhoods | Introduction | Business Problem "
        },
        {
            "cell_type": "markdown",
            "metadata": {},
            "source": "## Introduction section"
        },
        {
            "cell_type": "markdown",
            "metadata": {},
            "source": "### Background"
        },
        {
            "cell_type": "markdown",
            "metadata": {},
            "source": "Toronto is the provincial capital of Ontario and the most populous city in Canada, with a population of 2,731,571 as of 2016. Current to 2016, the Toronto census metropolitan area (CMA), of which the majority is within the Greater Toronto Area (GTA), held a population of 5,928,040, making it Canada's most populous CMA. The city is the anchor of the Golden Horseshoe, an urban agglomeration of 9,245,438 people (as of 2016) surrounding the western end of Lake Ontario. Toronto is an international centre of business, finance, arts, and culture, and is recognized as one of the most multicultural and cosmopolitan cities in the world."
        },
        {
            "cell_type": "markdown",
            "metadata": {},
            "source": "The diverse population of Toronto reflects its current and historical role as an important destination for immigrants to Canada. Toronto is a prominent centre for music, theatre, motion picture production, and television production and is home to the headquarters of Canada's major national broadcast networks and media outlets. Its varied cultural institutions, which include numerous museums and galleries, festivals and public events, entertainment districts, national historic sites, and sports activities, attract over 43 million tourists each year."
        },
        {
            "cell_type": "markdown",
            "metadata": {},
            "source": "### Business Proposal"
        },
        {
            "cell_type": "markdown",
            "metadata": {},
            "source": "Lots of people are migrating to various states of Canada and needed lots of research for starting a new life or new business. This project is for those people who are looking for better locations to open a shopping mall. It will help people to get awareness of the area and neighborhood before moving to a new city, state, country or place for their work or to start a new fresh life.\n\nThe major purpose of this project is to explore the City of Toronto neighbourhoods for the optimal location to open a shopping mall. To study and analyze the neighborhoods of Toronto city,  group them into similar clusters and analyze those clusters to gather meaningful information. That information can be used to find out locations that are more suitable to open a shopping mall. Good locations allow ready access, attract large numbers of customers, and increase the potential sales of stores in the mall."
        },
        {
            "cell_type": "markdown",
            "metadata": {},
            "source": "### Target Audience:"
        },
        {
            "cell_type": "markdown",
            "metadata": {},
            "source": "The content of this project is intended following group of stakeholders\n- Person who is interested in opening their own shopping mall in Toronto\n- Investors who are interested in partnering to open a shopping mall or other similar type of retail stores"
        },
        {
            "cell_type": "markdown",
            "metadata": {},
            "source": "### Project Objectives:"
        },
        {
            "cell_type": "markdown",
            "metadata": {},
            "source": "Identify an ideal business location for a mall startup by considering areas/localities/boroughs that possessed the following criteria which were selected by the stakeholders:\n- High population\n- High population density area to allow for highest potential number of initial customers when opening\n- High percentage of population with income greater than $30,000\n- High frequency of office and schools in the neighborhood\n- High percentage of population who are aged between 15\u201354 years old\n- Neighbourhood with high residential real estate price\n- High Average Total income\n- Low frequency of mall in the localities/boroughs\n- Low crime rate for owners and investors\n"
        }
    ],
    "metadata": {
        "kernelspec": {
            "display_name": "Python 3.6",
            "language": "python",
            "name": "python3"
        },
        "language_info": {
            "codemirror_mode": {
                "name": "ipython",
                "version": 3
            },
            "file_extension": ".py",
            "mimetype": "text/x-python",
            "name": "python",
            "nbconvert_exporter": "python",
            "pygments_lexer": "ipython3",
            "version": "3.6.9"
        }
    },
    "nbformat": 4,
    "nbformat_minor": 1
}